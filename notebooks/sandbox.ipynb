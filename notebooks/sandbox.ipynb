{
 "cells": [
  {
   "cell_type": "markdown",
   "metadata": {},
   "source": [
    "### Import libraries"
   ]
  },
  {
   "cell_type": "code",
   "execution_count": 41,
   "metadata": {},
   "outputs": [],
   "source": [
    "import pandas as pd\n",
    "import numpy as np\n",
    "from functools import partial\n",
    "from functools import reduce\n",
    "from datetime import datetime\n",
    "import utils"
   ]
  },
  {
   "cell_type": "markdown",
   "metadata": {},
   "source": [
    "Read file from local directory"
   ]
  },
  {
   "cell_type": "code",
   "execution_count": 20,
   "metadata": {},
   "outputs": [],
   "source": [
    "with open('Mousotron.log', 'r') as log:\n",
    "    logs = log.readlines()\n"
   ]
  },
  {
   "cell_type": "markdown",
   "metadata": {},
   "source": [
    "In order to process the data from the log directly, i will consider the spaces in the document and identify how many are them for the column and for the data. Once i know these numbers i can effectively pull in the data.\n",
    "\n",
    "- Date: 0 for column name, 3 spaces between the data. \n",
    "- days hour min sec: 3 for column name, 7 spaces between the data. (will use tuple notation for the next ones)\n",
    "- Distance 1: (1, 1)\n",
    "- Distance 2: (1, 1)\n",
    "- Distance 3: (1, 1)\n",
    "- keystrokes: (0,0)\n",
    "- left: (0,0)\n",
    "- right: (0,0)\n",
    "- middle: (0,0)\n",
    "- double: (0,0)\n",
    "- wheel: (0,0)\n",
    "- x1 btn: (1,0)\n",
    "- x2 btn: (1,0)\n",
    "- idle days hour min sec: (4,7)"
   ]
  },
  {
   "cell_type": "code",
   "execution_count": 113,
   "metadata": {},
   "outputs": [
    {
     "data": {
      "text/html": [
       "<div>\n",
       "<style scoped>\n",
       "    .dataframe tbody tr th:only-of-type {\n",
       "        vertical-align: middle;\n",
       "    }\n",
       "\n",
       "    .dataframe tbody tr th {\n",
       "        vertical-align: top;\n",
       "    }\n",
       "\n",
       "    .dataframe thead th {\n",
       "        text-align: right;\n",
       "    }\n",
       "</style>\n",
       "<table border=\"1\" class=\"dataframe\">\n",
       "  <thead>\n",
       "    <tr style=\"text-align: right;\">\n",
       "      <th></th>\n",
       "      <th>Date</th>\n",
       "      <th>days hour min sec</th>\n",
       "      <th>Distance 1 Distance 2 Distance 3</th>\n",
       "      <th>keystrokes</th>\n",
       "      <th>left</th>\n",
       "      <th>right</th>\n",
       "      <th>middle</th>\n",
       "      <th>double</th>\n",
       "      <th>wheel</th>\n",
       "      <th>x1 btn</th>\n",
       "      <th>x2 btn</th>\n",
       "      <th>idle days hour min sec</th>\n",
       "    </tr>\n",
       "  </thead>\n",
       "  <tbody>\n",
       "    <tr>\n",
       "      <th>0</th>\n",
       "      <td>2020 abr. 07 23:32:52</td>\n",
       "      <td>0 days 13 hours 17 min 37 sec</td>\n",
       "      <td>1 km 43 m 3 cm</td>\n",
       "      <td>20590</td>\n",
       "      <td>3284</td>\n",
       "      <td>4758</td>\n",
       "      <td>15</td>\n",
       "      <td>2241</td>\n",
       "      <td>6683</td>\n",
       "      <td>0</td>\n",
       "      <td>0</td>\n",
       "      <td>0 days 7 hours 57 min 20 sec</td>\n",
       "    </tr>\n",
       "    <tr>\n",
       "      <th>1</th>\n",
       "      <td>2020 abr. 08 00:18:32</td>\n",
       "      <td>0 days 14 hours 3 min 17 sec</td>\n",
       "      <td>1 km 53 m 94 cm</td>\n",
       "      <td>20590</td>\n",
       "      <td>3363</td>\n",
       "      <td>4758</td>\n",
       "      <td>15</td>\n",
       "      <td>2248</td>\n",
       "      <td>6683</td>\n",
       "      <td>0</td>\n",
       "      <td>0</td>\n",
       "      <td>0 days 7 hours 57 min 33 sec</td>\n",
       "    </tr>\n",
       "    <tr>\n",
       "      <th>2</th>\n",
       "      <td>2020 abr. 09 00:00:12</td>\n",
       "      <td>0 days 14 hours 54 min 29 sec</td>\n",
       "      <td>0 km 663 m 26 cm</td>\n",
       "      <td>8535</td>\n",
       "      <td>2127</td>\n",
       "      <td>17</td>\n",
       "      <td>5</td>\n",
       "      <td>156</td>\n",
       "      <td>4854</td>\n",
       "      <td>0</td>\n",
       "      <td>0</td>\n",
       "      <td>0 days 0 hours 0 min 0 sec</td>\n",
       "    </tr>\n",
       "    <tr>\n",
       "      <th>3</th>\n",
       "      <td>2020 abr. 09 01:34:37</td>\n",
       "      <td>0 days 16 hours 28 min 54 sec</td>\n",
       "      <td>0 km 709 m 74 cm</td>\n",
       "      <td>9293</td>\n",
       "      <td>2314</td>\n",
       "      <td>17</td>\n",
       "      <td>5</td>\n",
       "      <td>167</td>\n",
       "      <td>5078</td>\n",
       "      <td>0</td>\n",
       "      <td>0</td>\n",
       "      <td>0 days 13 hours 25 min 58 sec</td>\n",
       "    </tr>\n",
       "    <tr>\n",
       "      <th>4</th>\n",
       "      <td>2020 abr. 10 14:05:30</td>\n",
       "      <td>0 days 2 hours 18 min 9 sec</td>\n",
       "      <td>1 km 316 m 7 cm</td>\n",
       "      <td>3935</td>\n",
       "      <td>3160</td>\n",
       "      <td>3849</td>\n",
       "      <td>1</td>\n",
       "      <td>1886</td>\n",
       "      <td>264</td>\n",
       "      <td>0</td>\n",
       "      <td>0</td>\n",
       "      <td>0 days 10 hours 24 min 27 sec</td>\n",
       "    </tr>\n",
       "    <tr>\n",
       "      <th>...</th>\n",
       "      <td>...</td>\n",
       "      <td>...</td>\n",
       "      <td>...</td>\n",
       "      <td>...</td>\n",
       "      <td>...</td>\n",
       "      <td>...</td>\n",
       "      <td>...</td>\n",
       "      <td>...</td>\n",
       "      <td>...</td>\n",
       "      <td>...</td>\n",
       "      <td>...</td>\n",
       "      <td>...</td>\n",
       "    </tr>\n",
       "    <tr>\n",
       "      <th>773</th>\n",
       "      <td>2022 nov. 01 15:55:54</td>\n",
       "      <td>26 days 16 hours 43 min 38 sec</td>\n",
       "      <td>12 km 43 m 61 cm</td>\n",
       "      <td>151297</td>\n",
       "      <td>35995</td>\n",
       "      <td>1933</td>\n",
       "      <td>137</td>\n",
       "      <td>3182</td>\n",
       "      <td>110598</td>\n",
       "      <td>0</td>\n",
       "      <td>0</td>\n",
       "      <td>19 days 19 hours 11 min 44 sec</td>\n",
       "    </tr>\n",
       "    <tr>\n",
       "      <th>774</th>\n",
       "      <td>2022 nov. 02 00:00:16</td>\n",
       "      <td>27 days 0 hours 46 min 13 sec</td>\n",
       "      <td>12 km 792 m 21 cm</td>\n",
       "      <td>158540</td>\n",
       "      <td>37063</td>\n",
       "      <td>1965</td>\n",
       "      <td>138</td>\n",
       "      <td>3280</td>\n",
       "      <td>114895</td>\n",
       "      <td>0</td>\n",
       "      <td>0</td>\n",
       "      <td>20 days 17 hours 46 min 28 sec</td>\n",
       "    </tr>\n",
       "    <tr>\n",
       "      <th>775</th>\n",
       "      <td>2022 nov. 03 00:00:57</td>\n",
       "      <td>28 days 0 hours 46 min 54 sec</td>\n",
       "      <td>13 km 891 m 48 cm</td>\n",
       "      <td>178014</td>\n",
       "      <td>40472</td>\n",
       "      <td>2235</td>\n",
       "      <td>142</td>\n",
       "      <td>3791</td>\n",
       "      <td>123208</td>\n",
       "      <td>0</td>\n",
       "      <td>0</td>\n",
       "      <td>21 days 10 hours 3 min 36 sec</td>\n",
       "    </tr>\n",
       "    <tr>\n",
       "      <th>776</th>\n",
       "      <td>2022 nov. 04 00:00:54</td>\n",
       "      <td>29 days 0 hours 46 min 51 sec</td>\n",
       "      <td>15 km 149 m 67 cm</td>\n",
       "      <td>187828</td>\n",
       "      <td>43436</td>\n",
       "      <td>2311</td>\n",
       "      <td>143</td>\n",
       "      <td>4052</td>\n",
       "      <td>133183</td>\n",
       "      <td>0</td>\n",
       "      <td>0</td>\n",
       "      <td>22 days 3 hours 43 min 55 sec</td>\n",
       "    </tr>\n",
       "    <tr>\n",
       "      <th>777</th>\n",
       "      <td>2022 nov. 05 13:59:54</td>\n",
       "      <td>30 days 14 hours 45 min 51 sec</td>\n",
       "      <td>15 km 443 m 90 cm</td>\n",
       "      <td>190698</td>\n",
       "      <td>43638</td>\n",
       "      <td>2411</td>\n",
       "      <td>143</td>\n",
       "      <td>4095</td>\n",
       "      <td>133696</td>\n",
       "      <td>0</td>\n",
       "      <td>0</td>\n",
       "      <td>22 days 3 hours 46 min 1 sec</td>\n",
       "    </tr>\n",
       "  </tbody>\n",
       "</table>\n",
       "<p>778 rows × 12 columns</p>\n",
       "</div>"
      ],
      "text/plain": [
       "                      Date               days hour min sec  \\\n",
       "0    2020 abr. 07 23:32:52   0 days 13 hours 17 min 37 sec   \n",
       "1    2020 abr. 08 00:18:32    0 days 14 hours 3 min 17 sec   \n",
       "2    2020 abr. 09 00:00:12   0 days 14 hours 54 min 29 sec   \n",
       "3    2020 abr. 09 01:34:37   0 days 16 hours 28 min 54 sec   \n",
       "4    2020 abr. 10 14:05:30     0 days 2 hours 18 min 9 sec   \n",
       "..                     ...                             ...   \n",
       "773  2022 nov. 01 15:55:54  26 days 16 hours 43 min 38 sec   \n",
       "774  2022 nov. 02 00:00:16   27 days 0 hours 46 min 13 sec   \n",
       "775  2022 nov. 03 00:00:57   28 days 0 hours 46 min 54 sec   \n",
       "776  2022 nov. 04 00:00:54   29 days 0 hours 46 min 51 sec   \n",
       "777  2022 nov. 05 13:59:54  30 days 14 hours 45 min 51 sec   \n",
       "\n",
       "    Distance 1 Distance 2 Distance 3 keystrokes   left right middle double  \\\n",
       "0                     1 km 43 m 3 cm      20590   3284  4758     15   2241   \n",
       "1                    1 km 53 m 94 cm      20590   3363  4758     15   2248   \n",
       "2                   0 km 663 m 26 cm       8535   2127    17      5    156   \n",
       "3                   0 km 709 m 74 cm       9293   2314    17      5    167   \n",
       "4                    1 km 316 m 7 cm       3935   3160  3849      1   1886   \n",
       "..                               ...        ...    ...   ...    ...    ...   \n",
       "773                 12 km 43 m 61 cm     151297  35995  1933    137   3182   \n",
       "774                12 km 792 m 21 cm     158540  37063  1965    138   3280   \n",
       "775                13 km 891 m 48 cm     178014  40472  2235    142   3791   \n",
       "776                15 km 149 m 67 cm     187828  43436  2311    143   4052   \n",
       "777                15 km 443 m 90 cm     190698  43638  2411    143   4095   \n",
       "\n",
       "      wheel x1 btn x2 btn          idle days hour min sec  \n",
       "0      6683      0      0    0 days 7 hours 57 min 20 sec  \n",
       "1      6683      0      0    0 days 7 hours 57 min 33 sec  \n",
       "2      4854      0      0      0 days 0 hours 0 min 0 sec  \n",
       "3      5078      0      0   0 days 13 hours 25 min 58 sec  \n",
       "4       264      0      0   0 days 10 hours 24 min 27 sec  \n",
       "..      ...    ...    ...                             ...  \n",
       "773  110598      0      0  19 days 19 hours 11 min 44 sec  \n",
       "774  114895      0      0  20 days 17 hours 46 min 28 sec  \n",
       "775  123208      0      0   21 days 10 hours 3 min 36 sec  \n",
       "776  133183      0      0   22 days 3 hours 43 min 55 sec  \n",
       "777  133696      0      0    22 days 3 hours 46 min 1 sec  \n",
       "\n",
       "[778 rows x 12 columns]"
      ]
     },
     "execution_count": 113,
     "metadata": {},
     "output_type": "execute_result"
    }
   ],
   "source": [
    "from utils import spaces\n",
    "\n",
    "cols = logs[0].split()\n",
    "rows = [x.split() for x in logs[1:]]\n",
    "\n",
    "def format_row(row, column_names=False, spaces=None):\n",
    "    i_line = 0\n",
    "    new_row = []\n",
    "    spaces_idx = 0 if column_names else 1\n",
    "    for col_spaces in spaces:\n",
    "        slice_range = col_spaces[spaces_idx] + 1\n",
    "        new_row.append(\" \".join(row[i_line:slice_range + i_line]))\n",
    "        i_line += slice_range\n",
    "    return new_row\n",
    "\n",
    "new_cols = format_row(cols, column_names=True, spaces=spaces)\n",
    "df = pd.DataFrame(list(map(partial(format_row, column_names=False, spaces=spaces), rows)), columns = new_cols) # use partial to pass arguments to mapping function\n",
    "df"
   ]
  },
  {
   "cell_type": "markdown",
   "metadata": {},
   "source": []
  },
  {
   "cell_type": "markdown",
   "metadata": {},
   "source": [
    "Dropping x1 and x2 btn rows because they don't bring in useful data, so we drop them"
   ]
  },
  {
   "cell_type": "code",
   "execution_count": 114,
   "metadata": {},
   "outputs": [
    {
     "data": {
      "text/plain": [
       "x1 btn  x2 btn\n",
       "0       0         513\n",
       "5       10        265\n",
       "dtype: int64"
      ]
     },
     "execution_count": 114,
     "metadata": {},
     "output_type": "execute_result"
    }
   ],
   "source": [
    "df[['x1 btn', 'x2 btn']].value_counts()"
   ]
  },
  {
   "cell_type": "code",
   "execution_count": 115,
   "metadata": {},
   "outputs": [],
   "source": [
    "df.drop(['x1 btn', 'x2 btn'], inplace=True, axis=1)"
   ]
  },
  {
   "cell_type": "markdown",
   "metadata": {},
   "source": [
    "Renaming columns"
   ]
  },
  {
   "cell_type": "code",
   "execution_count": 119,
   "metadata": {},
   "outputs": [],
   "source": [
    "df.rename({\n",
    "    'days hour min sec': 'Active time',\n",
    "    'Distance 1 Distance 2 Distance 3': 'Distance',\n",
    "    'keystrokes': 'Keystrokes',\n",
    "    'left': 'Left clicks',\n",
    "    'right': 'Right clicks',\n",
    "    'middle': 'Middle clicks',\n",
    "    'double': 'Double clicks',\n",
    "    'wheel': 'Wheel turn',\n",
    "    'idle days hour min sec': 'Idle time'\n",
    "}, inplace=True, axis=1)\n"
   ]
  },
  {
   "cell_type": "code",
   "execution_count": 120,
   "metadata": {},
   "outputs": [
    {
     "data": {
      "text/html": [
       "<div>\n",
       "<style scoped>\n",
       "    .dataframe tbody tr th:only-of-type {\n",
       "        vertical-align: middle;\n",
       "    }\n",
       "\n",
       "    .dataframe tbody tr th {\n",
       "        vertical-align: top;\n",
       "    }\n",
       "\n",
       "    .dataframe thead th {\n",
       "        text-align: right;\n",
       "    }\n",
       "</style>\n",
       "<table border=\"1\" class=\"dataframe\">\n",
       "  <thead>\n",
       "    <tr style=\"text-align: right;\">\n",
       "      <th></th>\n",
       "      <th>Date</th>\n",
       "      <th>Active time</th>\n",
       "      <th>Distance</th>\n",
       "      <th>Keystrokes</th>\n",
       "      <th>Left clicks</th>\n",
       "      <th>Right clicks</th>\n",
       "      <th>Middle clicks</th>\n",
       "      <th>Double clicks</th>\n",
       "      <th>Wheel turn</th>\n",
       "      <th>Idle time</th>\n",
       "    </tr>\n",
       "  </thead>\n",
       "  <tbody>\n",
       "    <tr>\n",
       "      <th>0</th>\n",
       "      <td>2020 abr. 07 23:32:52</td>\n",
       "      <td>0 days 13 hours 17 min 37 sec</td>\n",
       "      <td>1 km 43 m 3 cm</td>\n",
       "      <td>20590</td>\n",
       "      <td>3284</td>\n",
       "      <td>4758</td>\n",
       "      <td>15</td>\n",
       "      <td>2241</td>\n",
       "      <td>6683</td>\n",
       "      <td>0 days 7 hours 57 min 20 sec</td>\n",
       "    </tr>\n",
       "    <tr>\n",
       "      <th>1</th>\n",
       "      <td>2020 abr. 08 00:18:32</td>\n",
       "      <td>0 days 14 hours 3 min 17 sec</td>\n",
       "      <td>1 km 53 m 94 cm</td>\n",
       "      <td>20590</td>\n",
       "      <td>3363</td>\n",
       "      <td>4758</td>\n",
       "      <td>15</td>\n",
       "      <td>2248</td>\n",
       "      <td>6683</td>\n",
       "      <td>0 days 7 hours 57 min 33 sec</td>\n",
       "    </tr>\n",
       "    <tr>\n",
       "      <th>2</th>\n",
       "      <td>2020 abr. 09 00:00:12</td>\n",
       "      <td>0 days 14 hours 54 min 29 sec</td>\n",
       "      <td>0 km 663 m 26 cm</td>\n",
       "      <td>8535</td>\n",
       "      <td>2127</td>\n",
       "      <td>17</td>\n",
       "      <td>5</td>\n",
       "      <td>156</td>\n",
       "      <td>4854</td>\n",
       "      <td>0 days 0 hours 0 min 0 sec</td>\n",
       "    </tr>\n",
       "    <tr>\n",
       "      <th>3</th>\n",
       "      <td>2020 abr. 09 01:34:37</td>\n",
       "      <td>0 days 16 hours 28 min 54 sec</td>\n",
       "      <td>0 km 709 m 74 cm</td>\n",
       "      <td>9293</td>\n",
       "      <td>2314</td>\n",
       "      <td>17</td>\n",
       "      <td>5</td>\n",
       "      <td>167</td>\n",
       "      <td>5078</td>\n",
       "      <td>0 days 13 hours 25 min 58 sec</td>\n",
       "    </tr>\n",
       "    <tr>\n",
       "      <th>4</th>\n",
       "      <td>2020 abr. 10 14:05:30</td>\n",
       "      <td>0 days 2 hours 18 min 9 sec</td>\n",
       "      <td>1 km 316 m 7 cm</td>\n",
       "      <td>3935</td>\n",
       "      <td>3160</td>\n",
       "      <td>3849</td>\n",
       "      <td>1</td>\n",
       "      <td>1886</td>\n",
       "      <td>264</td>\n",
       "      <td>0 days 10 hours 24 min 27 sec</td>\n",
       "    </tr>\n",
       "    <tr>\n",
       "      <th>...</th>\n",
       "      <td>...</td>\n",
       "      <td>...</td>\n",
       "      <td>...</td>\n",
       "      <td>...</td>\n",
       "      <td>...</td>\n",
       "      <td>...</td>\n",
       "      <td>...</td>\n",
       "      <td>...</td>\n",
       "      <td>...</td>\n",
       "      <td>...</td>\n",
       "    </tr>\n",
       "    <tr>\n",
       "      <th>773</th>\n",
       "      <td>2022 nov. 01 15:55:54</td>\n",
       "      <td>26 days 16 hours 43 min 38 sec</td>\n",
       "      <td>12 km 43 m 61 cm</td>\n",
       "      <td>151297</td>\n",
       "      <td>35995</td>\n",
       "      <td>1933</td>\n",
       "      <td>137</td>\n",
       "      <td>3182</td>\n",
       "      <td>110598</td>\n",
       "      <td>19 days 19 hours 11 min 44 sec</td>\n",
       "    </tr>\n",
       "    <tr>\n",
       "      <th>774</th>\n",
       "      <td>2022 nov. 02 00:00:16</td>\n",
       "      <td>27 days 0 hours 46 min 13 sec</td>\n",
       "      <td>12 km 792 m 21 cm</td>\n",
       "      <td>158540</td>\n",
       "      <td>37063</td>\n",
       "      <td>1965</td>\n",
       "      <td>138</td>\n",
       "      <td>3280</td>\n",
       "      <td>114895</td>\n",
       "      <td>20 days 17 hours 46 min 28 sec</td>\n",
       "    </tr>\n",
       "    <tr>\n",
       "      <th>775</th>\n",
       "      <td>2022 nov. 03 00:00:57</td>\n",
       "      <td>28 days 0 hours 46 min 54 sec</td>\n",
       "      <td>13 km 891 m 48 cm</td>\n",
       "      <td>178014</td>\n",
       "      <td>40472</td>\n",
       "      <td>2235</td>\n",
       "      <td>142</td>\n",
       "      <td>3791</td>\n",
       "      <td>123208</td>\n",
       "      <td>21 days 10 hours 3 min 36 sec</td>\n",
       "    </tr>\n",
       "    <tr>\n",
       "      <th>776</th>\n",
       "      <td>2022 nov. 04 00:00:54</td>\n",
       "      <td>29 days 0 hours 46 min 51 sec</td>\n",
       "      <td>15 km 149 m 67 cm</td>\n",
       "      <td>187828</td>\n",
       "      <td>43436</td>\n",
       "      <td>2311</td>\n",
       "      <td>143</td>\n",
       "      <td>4052</td>\n",
       "      <td>133183</td>\n",
       "      <td>22 days 3 hours 43 min 55 sec</td>\n",
       "    </tr>\n",
       "    <tr>\n",
       "      <th>777</th>\n",
       "      <td>2022 nov. 05 13:59:54</td>\n",
       "      <td>30 days 14 hours 45 min 51 sec</td>\n",
       "      <td>15 km 443 m 90 cm</td>\n",
       "      <td>190698</td>\n",
       "      <td>43638</td>\n",
       "      <td>2411</td>\n",
       "      <td>143</td>\n",
       "      <td>4095</td>\n",
       "      <td>133696</td>\n",
       "      <td>22 days 3 hours 46 min 1 sec</td>\n",
       "    </tr>\n",
       "  </tbody>\n",
       "</table>\n",
       "<p>778 rows × 10 columns</p>\n",
       "</div>"
      ],
      "text/plain": [
       "                      Date                     Active time           Distance  \\\n",
       "0    2020 abr. 07 23:32:52   0 days 13 hours 17 min 37 sec     1 km 43 m 3 cm   \n",
       "1    2020 abr. 08 00:18:32    0 days 14 hours 3 min 17 sec    1 km 53 m 94 cm   \n",
       "2    2020 abr. 09 00:00:12   0 days 14 hours 54 min 29 sec   0 km 663 m 26 cm   \n",
       "3    2020 abr. 09 01:34:37   0 days 16 hours 28 min 54 sec   0 km 709 m 74 cm   \n",
       "4    2020 abr. 10 14:05:30     0 days 2 hours 18 min 9 sec    1 km 316 m 7 cm   \n",
       "..                     ...                             ...                ...   \n",
       "773  2022 nov. 01 15:55:54  26 days 16 hours 43 min 38 sec   12 km 43 m 61 cm   \n",
       "774  2022 nov. 02 00:00:16   27 days 0 hours 46 min 13 sec  12 km 792 m 21 cm   \n",
       "775  2022 nov. 03 00:00:57   28 days 0 hours 46 min 54 sec  13 km 891 m 48 cm   \n",
       "776  2022 nov. 04 00:00:54   29 days 0 hours 46 min 51 sec  15 km 149 m 67 cm   \n",
       "777  2022 nov. 05 13:59:54  30 days 14 hours 45 min 51 sec  15 km 443 m 90 cm   \n",
       "\n",
       "    Keystrokes Left clicks Right clicks Middle clicks Double clicks  \\\n",
       "0        20590        3284         4758            15          2241   \n",
       "1        20590        3363         4758            15          2248   \n",
       "2         8535        2127           17             5           156   \n",
       "3         9293        2314           17             5           167   \n",
       "4         3935        3160         3849             1          1886   \n",
       "..         ...         ...          ...           ...           ...   \n",
       "773     151297       35995         1933           137          3182   \n",
       "774     158540       37063         1965           138          3280   \n",
       "775     178014       40472         2235           142          3791   \n",
       "776     187828       43436         2311           143          4052   \n",
       "777     190698       43638         2411           143          4095   \n",
       "\n",
       "    Wheel turn                       Idle time  \n",
       "0         6683    0 days 7 hours 57 min 20 sec  \n",
       "1         6683    0 days 7 hours 57 min 33 sec  \n",
       "2         4854      0 days 0 hours 0 min 0 sec  \n",
       "3         5078   0 days 13 hours 25 min 58 sec  \n",
       "4          264   0 days 10 hours 24 min 27 sec  \n",
       "..         ...                             ...  \n",
       "773     110598  19 days 19 hours 11 min 44 sec  \n",
       "774     114895  20 days 17 hours 46 min 28 sec  \n",
       "775     123208   21 days 10 hours 3 min 36 sec  \n",
       "776     133183   22 days 3 hours 43 min 55 sec  \n",
       "777     133696    22 days 3 hours 46 min 1 sec  \n",
       "\n",
       "[778 rows x 10 columns]"
      ]
     },
     "execution_count": 120,
     "metadata": {},
     "output_type": "execute_result"
    }
   ],
   "source": [
    "df"
   ]
  },
  {
   "cell_type": "code",
   "execution_count": 88,
   "metadata": {},
   "outputs": [],
   "source": [
    "df.to_csv('mousotron_data.csv', index=False)"
   ]
  },
  {
   "cell_type": "code",
   "execution_count": 30,
   "metadata": {},
   "outputs": [
    {
     "data": {
      "text/html": [
       "<div>\n",
       "<style scoped>\n",
       "    .dataframe tbody tr th:only-of-type {\n",
       "        vertical-align: middle;\n",
       "    }\n",
       "\n",
       "    .dataframe tbody tr th {\n",
       "        vertical-align: top;\n",
       "    }\n",
       "\n",
       "    .dataframe thead th {\n",
       "        text-align: right;\n",
       "    }\n",
       "</style>\n",
       "<table border=\"1\" class=\"dataframe\">\n",
       "  <thead>\n",
       "    <tr style=\"text-align: right;\">\n",
       "      <th></th>\n",
       "      <th>Date</th>\n",
       "      <th>Active time</th>\n",
       "      <th>Distance</th>\n",
       "      <th>Keystrokes</th>\n",
       "      <th>Left clicks</th>\n",
       "      <th>Right clicks</th>\n",
       "      <th>Middle clicks</th>\n",
       "      <th>Double clicks</th>\n",
       "      <th>Wheel turn</th>\n",
       "      <th>Idle time</th>\n",
       "    </tr>\n",
       "  </thead>\n",
       "  <tbody>\n",
       "    <tr>\n",
       "      <th>0</th>\n",
       "      <td>2020 abr. 07 23:32:52</td>\n",
       "      <td>0 days 13 hours 17 min 37 sec</td>\n",
       "      <td>1 km 43 m 3 cm</td>\n",
       "      <td>20590</td>\n",
       "      <td>3284</td>\n",
       "      <td>4758</td>\n",
       "      <td>15</td>\n",
       "      <td>2241</td>\n",
       "      <td>6683</td>\n",
       "      <td>0 days 7 hours 57 min 20 sec</td>\n",
       "    </tr>\n",
       "    <tr>\n",
       "      <th>1</th>\n",
       "      <td>2020 abr. 08 00:18:32</td>\n",
       "      <td>0 days 14 hours 3 min 17 sec</td>\n",
       "      <td>1 km 53 m 94 cm</td>\n",
       "      <td>20590</td>\n",
       "      <td>3363</td>\n",
       "      <td>4758</td>\n",
       "      <td>15</td>\n",
       "      <td>2248</td>\n",
       "      <td>6683</td>\n",
       "      <td>0 days 7 hours 57 min 33 sec</td>\n",
       "    </tr>\n",
       "    <tr>\n",
       "      <th>2</th>\n",
       "      <td>2020 abr. 09 00:00:12</td>\n",
       "      <td>0 days 14 hours 54 min 29 sec</td>\n",
       "      <td>0 km 663 m 26 cm</td>\n",
       "      <td>8535</td>\n",
       "      <td>2127</td>\n",
       "      <td>17</td>\n",
       "      <td>5</td>\n",
       "      <td>156</td>\n",
       "      <td>4854</td>\n",
       "      <td>0 days 0 hours 0 min 0 sec</td>\n",
       "    </tr>\n",
       "    <tr>\n",
       "      <th>3</th>\n",
       "      <td>2020 abr. 09 01:34:37</td>\n",
       "      <td>0 days 16 hours 28 min 54 sec</td>\n",
       "      <td>0 km 709 m 74 cm</td>\n",
       "      <td>9293</td>\n",
       "      <td>2314</td>\n",
       "      <td>17</td>\n",
       "      <td>5</td>\n",
       "      <td>167</td>\n",
       "      <td>5078</td>\n",
       "      <td>0 days 13 hours 25 min 58 sec</td>\n",
       "    </tr>\n",
       "    <tr>\n",
       "      <th>4</th>\n",
       "      <td>2020 abr. 10 14:05:30</td>\n",
       "      <td>0 days 2 hours 18 min 9 sec</td>\n",
       "      <td>1 km 316 m 7 cm</td>\n",
       "      <td>3935</td>\n",
       "      <td>3160</td>\n",
       "      <td>3849</td>\n",
       "      <td>1</td>\n",
       "      <td>1886</td>\n",
       "      <td>264</td>\n",
       "      <td>0 days 10 hours 24 min 27 sec</td>\n",
       "    </tr>\n",
       "    <tr>\n",
       "      <th>...</th>\n",
       "      <td>...</td>\n",
       "      <td>...</td>\n",
       "      <td>...</td>\n",
       "      <td>...</td>\n",
       "      <td>...</td>\n",
       "      <td>...</td>\n",
       "      <td>...</td>\n",
       "      <td>...</td>\n",
       "      <td>...</td>\n",
       "      <td>...</td>\n",
       "    </tr>\n",
       "    <tr>\n",
       "      <th>773</th>\n",
       "      <td>2022 nov. 01 15:55:54</td>\n",
       "      <td>26 days 16 hours 43 min 38 sec</td>\n",
       "      <td>12 km 43 m 61 cm</td>\n",
       "      <td>151297</td>\n",
       "      <td>35995</td>\n",
       "      <td>1933</td>\n",
       "      <td>137</td>\n",
       "      <td>3182</td>\n",
       "      <td>110598</td>\n",
       "      <td>19 days 19 hours 11 min 44 sec</td>\n",
       "    </tr>\n",
       "    <tr>\n",
       "      <th>774</th>\n",
       "      <td>2022 nov. 02 00:00:16</td>\n",
       "      <td>27 days 0 hours 46 min 13 sec</td>\n",
       "      <td>12 km 792 m 21 cm</td>\n",
       "      <td>158540</td>\n",
       "      <td>37063</td>\n",
       "      <td>1965</td>\n",
       "      <td>138</td>\n",
       "      <td>3280</td>\n",
       "      <td>114895</td>\n",
       "      <td>20 days 17 hours 46 min 28 sec</td>\n",
       "    </tr>\n",
       "    <tr>\n",
       "      <th>775</th>\n",
       "      <td>2022 nov. 03 00:00:57</td>\n",
       "      <td>28 days 0 hours 46 min 54 sec</td>\n",
       "      <td>13 km 891 m 48 cm</td>\n",
       "      <td>178014</td>\n",
       "      <td>40472</td>\n",
       "      <td>2235</td>\n",
       "      <td>142</td>\n",
       "      <td>3791</td>\n",
       "      <td>123208</td>\n",
       "      <td>21 days 10 hours 3 min 36 sec</td>\n",
       "    </tr>\n",
       "    <tr>\n",
       "      <th>776</th>\n",
       "      <td>2022 nov. 04 00:00:54</td>\n",
       "      <td>29 days 0 hours 46 min 51 sec</td>\n",
       "      <td>15 km 149 m 67 cm</td>\n",
       "      <td>187828</td>\n",
       "      <td>43436</td>\n",
       "      <td>2311</td>\n",
       "      <td>143</td>\n",
       "      <td>4052</td>\n",
       "      <td>133183</td>\n",
       "      <td>22 days 3 hours 43 min 55 sec</td>\n",
       "    </tr>\n",
       "    <tr>\n",
       "      <th>777</th>\n",
       "      <td>2022 nov. 05 13:59:54</td>\n",
       "      <td>30 days 14 hours 45 min 51 sec</td>\n",
       "      <td>15 km 443 m 90 cm</td>\n",
       "      <td>190698</td>\n",
       "      <td>43638</td>\n",
       "      <td>2411</td>\n",
       "      <td>143</td>\n",
       "      <td>4095</td>\n",
       "      <td>133696</td>\n",
       "      <td>22 days 3 hours 46 min 1 sec</td>\n",
       "    </tr>\n",
       "  </tbody>\n",
       "</table>\n",
       "<p>778 rows × 10 columns</p>\n",
       "</div>"
      ],
      "text/plain": [
       "                      Date                     Active time           Distance  \\\n",
       "0    2020 abr. 07 23:32:52   0 days 13 hours 17 min 37 sec     1 km 43 m 3 cm   \n",
       "1    2020 abr. 08 00:18:32    0 days 14 hours 3 min 17 sec    1 km 53 m 94 cm   \n",
       "2    2020 abr. 09 00:00:12   0 days 14 hours 54 min 29 sec   0 km 663 m 26 cm   \n",
       "3    2020 abr. 09 01:34:37   0 days 16 hours 28 min 54 sec   0 km 709 m 74 cm   \n",
       "4    2020 abr. 10 14:05:30     0 days 2 hours 18 min 9 sec    1 km 316 m 7 cm   \n",
       "..                     ...                             ...                ...   \n",
       "773  2022 nov. 01 15:55:54  26 days 16 hours 43 min 38 sec   12 km 43 m 61 cm   \n",
       "774  2022 nov. 02 00:00:16   27 days 0 hours 46 min 13 sec  12 km 792 m 21 cm   \n",
       "775  2022 nov. 03 00:00:57   28 days 0 hours 46 min 54 sec  13 km 891 m 48 cm   \n",
       "776  2022 nov. 04 00:00:54   29 days 0 hours 46 min 51 sec  15 km 149 m 67 cm   \n",
       "777  2022 nov. 05 13:59:54  30 days 14 hours 45 min 51 sec  15 km 443 m 90 cm   \n",
       "\n",
       "     Keystrokes  Left clicks  Right clicks  Middle clicks  Double clicks  \\\n",
       "0         20590         3284          4758             15           2241   \n",
       "1         20590         3363          4758             15           2248   \n",
       "2          8535         2127            17              5            156   \n",
       "3          9293         2314            17              5            167   \n",
       "4          3935         3160          3849              1           1886   \n",
       "..          ...          ...           ...            ...            ...   \n",
       "773      151297        35995          1933            137           3182   \n",
       "774      158540        37063          1965            138           3280   \n",
       "775      178014        40472          2235            142           3791   \n",
       "776      187828        43436          2311            143           4052   \n",
       "777      190698        43638          2411            143           4095   \n",
       "\n",
       "     Wheel turn                       Idle time  \n",
       "0          6683    0 days 7 hours 57 min 20 sec  \n",
       "1          6683    0 days 7 hours 57 min 33 sec  \n",
       "2          4854      0 days 0 hours 0 min 0 sec  \n",
       "3          5078   0 days 13 hours 25 min 58 sec  \n",
       "4           264   0 days 10 hours 24 min 27 sec  \n",
       "..          ...                             ...  \n",
       "773      110598  19 days 19 hours 11 min 44 sec  \n",
       "774      114895  20 days 17 hours 46 min 28 sec  \n",
       "775      123208   21 days 10 hours 3 min 36 sec  \n",
       "776      133183   22 days 3 hours 43 min 55 sec  \n",
       "777      133696    22 days 3 hours 46 min 1 sec  \n",
       "\n",
       "[778 rows x 10 columns]"
      ]
     },
     "execution_count": 30,
     "metadata": {},
     "output_type": "execute_result"
    }
   ],
   "source": [
    "df = pd.read_csv('mousotron_data.csv')\n",
    "df"
   ]
  },
  {
   "cell_type": "markdown",
   "metadata": {},
   "source": [
    "### Column information\n",
    "All measurements except for date are registered relative to the last reset time. There are some resets made in this log. We shoud be able to determine them using some cumulative information that suddenly drops. \n",
    "\n",
    "- Date: the moment when this information was logged\n",
    "- Active time: time the mouse or the keyboard have been active. i.e: moving, clicking, keystroking, etc...\n",
    "- Distance: Distance traveled\n",
    "- Keystrokes: keystrokes done to keyboard\n",
    "- Left clicks: Left clicks on mouse\n",
    "- Right clicks: Right clicks on mouse\n",
    "- Middle clicks: Middle clicks on mouse\n",
    "- Double clicks: Double clicks on mouse\n",
    "- Wheel turn: Wheel turn on mouse\n",
    "- Idle time: time the mouse or the keyboard have been non active."
   ]
  },
  {
   "cell_type": "markdown",
   "metadata": {},
   "source": [
    "On a first glance, we can see that **Date**, **Active time**, **Idle time** and **Distance** have an uncomfortable format to process."
   ]
  },
  {
   "cell_type": "markdown",
   "metadata": {},
   "source": [
    "### Data formatting\n",
    "\n",
    "- **Date**: Convert to datetime object\n",
    "- **Active time, Idle time**: compress information and count seconds. Convert to integer\n",
    "- **Distance**: compress information and count centimeters. Convert to integer\n",
    "\n",
    "The rest of the columns will be converted to integers."
   ]
  },
  {
   "cell_type": "markdown",
   "metadata": {},
   "source": [
    "### Formating Date as datetime\n",
    "\n",
    "we're going to use datetime library for this.\n",
    "\n",
    "First let's see an example of the data as presented"
   ]
  },
  {
   "cell_type": "code",
   "execution_count": 29,
   "metadata": {},
   "outputs": [
    {
     "data": {
      "text/plain": [
       "'2020 abr. 11 15:32:19'"
      ]
     },
     "execution_count": 29,
     "metadata": {},
     "output_type": "execute_result"
    }
   ],
   "source": [
    "# sample date: 2022 nov. 03 00:00:57\n",
    "df.iloc[5]['Date']"
   ]
  },
  {
   "cell_type": "markdown",
   "metadata": {},
   "source": [
    "We have to remove the dot and capitalize the month in order to properly format it"
   ]
  },
  {
   "cell_type": "code",
   "execution_count": 21,
   "metadata": {},
   "outputs": [
    {
     "data": {
      "text/plain": [
       "'2022 Abr 03 00:00:57'"
      ]
     },
     "execution_count": 21,
     "metadata": {},
     "output_type": "execute_result"
    }
   ],
   "source": [
    "test = \"2022 abr. 03 00:00:57\"\n",
    "test.replace(test.split(\" \")[1], test.split(\" \")[1].replace(\".\", \"\").capitalize())"
   ]
  },
  {
   "cell_type": "markdown",
   "metadata": {},
   "source": [
    "We still need to translate the month names to english"
   ]
  },
  {
   "cell_type": "code",
   "execution_count": 27,
   "metadata": {},
   "outputs": [
    {
     "data": {
      "text/plain": [
       "'2022 Apr 03 00:00:57'"
      ]
     },
     "execution_count": 27,
     "metadata": {},
     "output_type": "execute_result"
    }
   ],
   "source": [
    "test = \"2022 abr. 03 00:00:57\"\n",
    "test.replace(test.split(\" \")[1], utils.month_es_to_en[test.split(\" \")[1].replace(\".\", \"\").capitalize()])"
   ]
  },
  {
   "cell_type": "markdown",
   "metadata": {},
   "source": [
    "That looks more like it, so lets use that on all the Date column"
   ]
  },
  {
   "cell_type": "code",
   "execution_count": 26,
   "metadata": {},
   "outputs": [
    {
     "data": {
      "text/plain": [
       "0     2020-04-07 23:32:52\n",
       "1     2020-04-08 00:18:32\n",
       "2     2020-04-09 00:00:12\n",
       "3     2020-04-09 01:34:37\n",
       "4     2020-04-10 14:05:30\n",
       "              ...        \n",
       "773   2022-11-01 15:55:54\n",
       "774   2022-11-02 00:00:16\n",
       "775   2022-11-03 00:00:57\n",
       "776   2022-11-04 00:00:54\n",
       "777   2022-11-05 13:59:54\n",
       "Name: Date, Length: 778, dtype: datetime64[ns]"
      ]
     },
     "execution_count": 26,
     "metadata": {},
     "output_type": "execute_result"
    }
   ],
   "source": [
    "\n",
    "# get the whole string and select only the month to replace without the dot and capitalized.\n",
    "def format_date(date_string):\n",
    "    date_string = date_string.replace(date_string.split(\" \")[1], utils.month_es_to_en[date_string.split(\" \")[1].replace(\".\", \"\").capitalize()])\n",
    "    return datetime.strptime(date_string, '%Y %b %d %H:%M:%S')\n",
    "\n",
    "df['Date'].apply(format_date)"
   ]
  },
  {
   "cell_type": "markdown",
   "metadata": {},
   "source": [
    "perfect, moving on to Active and Idle time..."
   ]
  },
  {
   "cell_type": "markdown",
   "metadata": {},
   "source": [
    "### Format Active time and Idle time"
   ]
  },
  {
   "cell_type": "code",
   "execution_count": 38,
   "metadata": {},
   "outputs": [
    {
     "data": {
      "text/plain": [
       "'0 days 2 hours 18 min 9 sec'"
      ]
     },
     "execution_count": 38,
     "metadata": {},
     "output_type": "execute_result"
    }
   ],
   "source": [
    "test = df.iloc[4]['Active time']\n",
    "test"
   ]
  },
  {
   "cell_type": "markdown",
   "metadata": {},
   "source": [
    "Some code to get just the numbers and get the total amount of seconds from each part"
   ]
  },
  {
   "cell_type": "code",
   "execution_count": 53,
   "metadata": {},
   "outputs": [
    {
     "data": {
      "text/plain": [
       "[0, 7200, 1080, 9]"
      ]
     },
     "execution_count": 53,
     "metadata": {},
     "output_type": "execute_result"
    }
   ],
   "source": [
    "numbers = list(map(int, test.split(\" \")[::2]))\n",
    "mult = 1\n",
    "for i in range(len(numbers)):\n",
    "    if i == 0:\n",
    "        mult = 24*60*60\n",
    "    if i == 1:\n",
    "        mult = 60*60\n",
    "    if i == 2:\n",
    "        mult = 60\n",
    "    elif i == 3:\n",
    "        mult = 1\n",
    "\n",
    "    numbers[i] = numbers[i]*mult\n",
    "numbers"
   ]
  },
  {
   "cell_type": "markdown",
   "metadata": {},
   "source": [
    "Now lets reduce that so we get the total seconds"
   ]
  },
  {
   "cell_type": "code",
   "execution_count": 55,
   "metadata": {},
   "outputs": [
    {
     "data": {
      "text/plain": [
       "8289"
      ]
     },
     "execution_count": 55,
     "metadata": {},
     "output_type": "execute_result"
    }
   ],
   "source": [
    "reduce(lambda x, y: x+y, numbers)"
   ]
  },
  {
   "cell_type": "markdown",
   "metadata": {},
   "source": [
    "We can now apply this to the entire series and get a new column"
   ]
  },
  {
   "cell_type": "code",
   "execution_count": 56,
   "metadata": {},
   "outputs": [
    {
     "data": {
      "text/plain": [
       "0        50040\n",
       "1        51600\n",
       "2        55380\n",
       "3        62520\n",
       "4         8820\n",
       "        ...   \n",
       "773    2308860\n",
       "774    2336340\n",
       "775    2425200\n",
       "776    2511420\n",
       "777    2648160\n",
       "Name: Active time, Length: 778, dtype: int64"
      ]
     },
     "execution_count": 56,
     "metadata": {},
     "output_type": "execute_result"
    }
   ],
   "source": [
    "def get_seconds(time):\n",
    "    numbers = list(map(int, time.split(\" \")[::2]))\n",
    "    mult = 1\n",
    "    for i in range(len(numbers)):\n",
    "        if i == 0:\n",
    "            mult = 24*60*60\n",
    "        if i == 1:\n",
    "            mult = 60*60\n",
    "        if i == 2:\n",
    "            mult = 60\n",
    "\n",
    "        numbers[i] = numbers[i]*mult\n",
    "    return reduce(lambda x, y: x+y, numbers)\n",
    "        \n",
    "\n",
    "df['Active time'].apply(get_seconds)"
   ]
  },
  {
   "cell_type": "markdown",
   "metadata": {},
   "source": [
    "Same logic for Idle time"
   ]
  },
  {
   "cell_type": "code",
   "execution_count": 57,
   "metadata": {},
   "outputs": [
    {
     "data": {
      "text/plain": [
       "0        29820\n",
       "1        30600\n",
       "2            0\n",
       "3        51780\n",
       "4        39060\n",
       "        ...   \n",
       "773    1713300\n",
       "774    1793640\n",
       "775    1852740\n",
       "776    1917480\n",
       "777    1914420\n",
       "Name: Idle time, Length: 778, dtype: int64"
      ]
     },
     "execution_count": 57,
     "metadata": {},
     "output_type": "execute_result"
    }
   ],
   "source": [
    "df['Idle time'].apply(get_seconds)"
   ]
  },
  {
   "cell_type": "markdown",
   "metadata": {},
   "source": [
    "### Format distance column\n"
   ]
  },
  {
   "cell_type": "code",
   "execution_count": 58,
   "metadata": {},
   "outputs": [
    {
     "data": {
      "text/plain": [
       "'1 km 316 m 7 cm'"
      ]
     },
     "execution_count": 58,
     "metadata": {},
     "output_type": "execute_result"
    }
   ],
   "source": [
    "test = df.iloc[4]['Distance']\n",
    "test"
   ]
  },
  {
   "cell_type": "markdown",
   "metadata": {},
   "source": [
    "\n",
    "This procedure is very much like Active time, it's actually a variation for get_seconds function. Let's call it get_cents and replace the values for the multipliers."
   ]
  },
  {
   "cell_type": "code",
   "execution_count": 62,
   "metadata": {},
   "outputs": [
    {
     "data": {
      "text/plain": [
       "0       104303\n",
       "1       105394\n",
       "2        66326\n",
       "3        70974\n",
       "4       131607\n",
       "        ...   \n",
       "773    1204361\n",
       "774    1279221\n",
       "775    1389148\n",
       "776    1514967\n",
       "777    1544390\n",
       "Name: Distance, Length: 778, dtype: int64"
      ]
     },
     "execution_count": 62,
     "metadata": {},
     "output_type": "execute_result"
    }
   ],
   "source": [
    "def get_cents(time):\n",
    "    numbers = list(map(int, time.split(\" \")[::2]))\n",
    "    mult = 1\n",
    "    for i in range(len(numbers)):\n",
    "        if i == 0:\n",
    "            mult = 100*1000\n",
    "        if i == 1:\n",
    "            mult = 100\n",
    "        elif i == 2:\n",
    "            mult = 1\n",
    "\n",
    "        numbers[i] = numbers[i]*mult\n",
    "    return reduce(lambda x, y: x+y, numbers)\n",
    "        \n",
    "\n",
    "df['Distance'].apply(get_cents)"
   ]
  },
  {
   "cell_type": "markdown",
   "metadata": {},
   "source": [
    "### Replace columns"
   ]
  },
  {
   "cell_type": "code",
   "execution_count": 65,
   "metadata": {},
   "outputs": [
    {
     "ename": "AttributeError",
     "evalue": "'Timestamp' object has no attribute 'split'",
     "output_type": "error",
     "traceback": [
      "\u001b[1;31m---------------------------------------------------------------------------\u001b[0m",
      "\u001b[1;31mAttributeError\u001b[0m                            Traceback (most recent call last)",
      "\u001b[1;32md:\\repos\\mousotron\\sandbox.ipynb Cell 43\u001b[0m in \u001b[0;36m<cell line: 1>\u001b[1;34m()\u001b[0m\n\u001b[1;32m----> <a href='vscode-notebook-cell:/d%3A/repos/mousotron/sandbox.ipynb#X53sZmlsZQ%3D%3D?line=0'>1</a>\u001b[0m df[\u001b[39m'\u001b[39m\u001b[39mDate\u001b[39m\u001b[39m'\u001b[39m] \u001b[39m=\u001b[39m df[\u001b[39m'\u001b[39;49m\u001b[39mDate\u001b[39;49m\u001b[39m'\u001b[39;49m]\u001b[39m.\u001b[39;49mapply(format_date)\n\u001b[0;32m      <a href='vscode-notebook-cell:/d%3A/repos/mousotron/sandbox.ipynb#X53sZmlsZQ%3D%3D?line=1'>2</a>\u001b[0m df[\u001b[39m'\u001b[39m\u001b[39mDistance\u001b[39m\u001b[39m'\u001b[39m] \u001b[39m=\u001b[39m df[\u001b[39m'\u001b[39m\u001b[39mDistance\u001b[39m\u001b[39m'\u001b[39m]\u001b[39m.\u001b[39mapply(get_cents)\n\u001b[0;32m      <a href='vscode-notebook-cell:/d%3A/repos/mousotron/sandbox.ipynb#X53sZmlsZQ%3D%3D?line=2'>3</a>\u001b[0m df[\u001b[39m'\u001b[39m\u001b[39mActive time\u001b[39m\u001b[39m'\u001b[39m] \u001b[39m=\u001b[39m df[\u001b[39m'\u001b[39m\u001b[39mActive time\u001b[39m\u001b[39m'\u001b[39m]\u001b[39m.\u001b[39mapply(get_seconds)\n",
      "File \u001b[1;32md:\\anaconda3\\envs\\neoland\\lib\\site-packages\\pandas\\core\\series.py:4433\u001b[0m, in \u001b[0;36mSeries.apply\u001b[1;34m(self, func, convert_dtype, args, **kwargs)\u001b[0m\n\u001b[0;32m   4323\u001b[0m \u001b[39mdef\u001b[39;00m \u001b[39mapply\u001b[39m(\n\u001b[0;32m   4324\u001b[0m     \u001b[39mself\u001b[39m,\n\u001b[0;32m   4325\u001b[0m     func: AggFuncType,\n\u001b[1;32m   (...)\u001b[0m\n\u001b[0;32m   4328\u001b[0m     \u001b[39m*\u001b[39m\u001b[39m*\u001b[39mkwargs,\n\u001b[0;32m   4329\u001b[0m ) \u001b[39m-\u001b[39m\u001b[39m>\u001b[39m DataFrame \u001b[39m|\u001b[39m Series:\n\u001b[0;32m   4330\u001b[0m     \u001b[39m\"\"\"\u001b[39;00m\n\u001b[0;32m   4331\u001b[0m \u001b[39m    Invoke function on values of Series.\u001b[39;00m\n\u001b[0;32m   4332\u001b[0m \n\u001b[1;32m   (...)\u001b[0m\n\u001b[0;32m   4431\u001b[0m \u001b[39m    dtype: float64\u001b[39;00m\n\u001b[0;32m   4432\u001b[0m \u001b[39m    \"\"\"\u001b[39;00m\n\u001b[1;32m-> 4433\u001b[0m     \u001b[39mreturn\u001b[39;00m SeriesApply(\u001b[39mself\u001b[39;49m, func, convert_dtype, args, kwargs)\u001b[39m.\u001b[39;49mapply()\n",
      "File \u001b[1;32md:\\anaconda3\\envs\\neoland\\lib\\site-packages\\pandas\\core\\apply.py:1088\u001b[0m, in \u001b[0;36mSeriesApply.apply\u001b[1;34m(self)\u001b[0m\n\u001b[0;32m   1084\u001b[0m \u001b[39mif\u001b[39;00m \u001b[39misinstance\u001b[39m(\u001b[39mself\u001b[39m\u001b[39m.\u001b[39mf, \u001b[39mstr\u001b[39m):\n\u001b[0;32m   1085\u001b[0m     \u001b[39m# if we are a string, try to dispatch\u001b[39;00m\n\u001b[0;32m   1086\u001b[0m     \u001b[39mreturn\u001b[39;00m \u001b[39mself\u001b[39m\u001b[39m.\u001b[39mapply_str()\n\u001b[1;32m-> 1088\u001b[0m \u001b[39mreturn\u001b[39;00m \u001b[39mself\u001b[39;49m\u001b[39m.\u001b[39;49mapply_standard()\n",
      "File \u001b[1;32md:\\anaconda3\\envs\\neoland\\lib\\site-packages\\pandas\\core\\apply.py:1143\u001b[0m, in \u001b[0;36mSeriesApply.apply_standard\u001b[1;34m(self)\u001b[0m\n\u001b[0;32m   1137\u001b[0m         values \u001b[39m=\u001b[39m obj\u001b[39m.\u001b[39mastype(\u001b[39mobject\u001b[39m)\u001b[39m.\u001b[39m_values\n\u001b[0;32m   1138\u001b[0m         \u001b[39m# error: Argument 2 to \"map_infer\" has incompatible type\u001b[39;00m\n\u001b[0;32m   1139\u001b[0m         \u001b[39m# \"Union[Callable[..., Any], str, List[Union[Callable[..., Any], str]],\u001b[39;00m\n\u001b[0;32m   1140\u001b[0m         \u001b[39m# Dict[Hashable, Union[Union[Callable[..., Any], str],\u001b[39;00m\n\u001b[0;32m   1141\u001b[0m         \u001b[39m# List[Union[Callable[..., Any], str]]]]]\"; expected\u001b[39;00m\n\u001b[0;32m   1142\u001b[0m         \u001b[39m# \"Callable[[Any], Any]\"\u001b[39;00m\n\u001b[1;32m-> 1143\u001b[0m         mapped \u001b[39m=\u001b[39m lib\u001b[39m.\u001b[39;49mmap_infer(\n\u001b[0;32m   1144\u001b[0m             values,\n\u001b[0;32m   1145\u001b[0m             f,  \u001b[39m# type: ignore[arg-type]\u001b[39;49;00m\n\u001b[0;32m   1146\u001b[0m             convert\u001b[39m=\u001b[39;49m\u001b[39mself\u001b[39;49m\u001b[39m.\u001b[39;49mconvert_dtype,\n\u001b[0;32m   1147\u001b[0m         )\n\u001b[0;32m   1149\u001b[0m \u001b[39mif\u001b[39;00m \u001b[39mlen\u001b[39m(mapped) \u001b[39mand\u001b[39;00m \u001b[39misinstance\u001b[39m(mapped[\u001b[39m0\u001b[39m], ABCSeries):\n\u001b[0;32m   1150\u001b[0m     \u001b[39m# GH#43986 Need to do list(mapped) in order to get treated as nested\u001b[39;00m\n\u001b[0;32m   1151\u001b[0m     \u001b[39m#  See also GH#25959 regarding EA support\u001b[39;00m\n\u001b[0;32m   1152\u001b[0m     \u001b[39mreturn\u001b[39;00m obj\u001b[39m.\u001b[39m_constructor_expanddim(\u001b[39mlist\u001b[39m(mapped), index\u001b[39m=\u001b[39mobj\u001b[39m.\u001b[39mindex)\n",
      "File \u001b[1;32md:\\anaconda3\\envs\\neoland\\lib\\site-packages\\pandas\\_libs\\lib.pyx:2870\u001b[0m, in \u001b[0;36mpandas._libs.lib.map_infer\u001b[1;34m()\u001b[0m\n",
      "\u001b[1;32md:\\repos\\mousotron\\sandbox.ipynb Cell 43\u001b[0m in \u001b[0;36mformat_date\u001b[1;34m(date_string)\u001b[0m\n\u001b[0;32m      <a href='vscode-notebook-cell:/d%3A/repos/mousotron/sandbox.ipynb#X53sZmlsZQ%3D%3D?line=1'>2</a>\u001b[0m \u001b[39mdef\u001b[39;00m \u001b[39mformat_date\u001b[39m(date_string):\n\u001b[1;32m----> <a href='vscode-notebook-cell:/d%3A/repos/mousotron/sandbox.ipynb#X53sZmlsZQ%3D%3D?line=2'>3</a>\u001b[0m     date_string \u001b[39m=\u001b[39m date_string\u001b[39m.\u001b[39mreplace(date_string\u001b[39m.\u001b[39;49msplit(\u001b[39m\"\u001b[39m\u001b[39m \u001b[39m\u001b[39m\"\u001b[39m)[\u001b[39m1\u001b[39m], utils\u001b[39m.\u001b[39mmonth_es_to_en[date_string\u001b[39m.\u001b[39msplit(\u001b[39m\"\u001b[39m\u001b[39m \u001b[39m\u001b[39m\"\u001b[39m)[\u001b[39m1\u001b[39m]\u001b[39m.\u001b[39mreplace(\u001b[39m\"\u001b[39m\u001b[39m.\u001b[39m\u001b[39m\"\u001b[39m, \u001b[39m\"\u001b[39m\u001b[39m\"\u001b[39m)\u001b[39m.\u001b[39mcapitalize()])\n\u001b[0;32m      <a href='vscode-notebook-cell:/d%3A/repos/mousotron/sandbox.ipynb#X53sZmlsZQ%3D%3D?line=3'>4</a>\u001b[0m     \u001b[39mreturn\u001b[39;00m datetime\u001b[39m.\u001b[39mstrptime(date_string, \u001b[39m'\u001b[39m\u001b[39m%\u001b[39m\u001b[39mY \u001b[39m\u001b[39m%\u001b[39m\u001b[39mb \u001b[39m\u001b[39m%d\u001b[39;00m\u001b[39m \u001b[39m\u001b[39m%\u001b[39m\u001b[39mH:\u001b[39m\u001b[39m%\u001b[39m\u001b[39mM:\u001b[39m\u001b[39m%\u001b[39m\u001b[39mS\u001b[39m\u001b[39m'\u001b[39m)\n",
      "\u001b[1;31mAttributeError\u001b[0m: 'Timestamp' object has no attribute 'split'"
     ]
    }
   ],
   "source": [
    "df['Date'] = df['Date'].apply(format_date)\n",
    "df['Distance'] = df['Distance'].apply(get_cents)\n",
    "df['Active time'] = df['Active time'].apply(get_seconds)\n",
    "df['Idle time'] = df['Idle time'].apply(get_seconds)\n"
   ]
  },
  {
   "cell_type": "code",
   "execution_count": 68,
   "metadata": {},
   "outputs": [],
   "source": [
    "df = df.astype({'Keystrokes': 'int64', 'Left clicks': 'int64', 'Right clicks': 'int64', 'Middle clicks': 'int64', 'Double clicks': 'int64', 'Wheel turn': 'int64'})"
   ]
  },
  {
   "cell_type": "code",
   "execution_count": 69,
   "metadata": {},
   "outputs": [
    {
     "name": "stdout",
     "output_type": "stream",
     "text": [
      "<class 'pandas.core.frame.DataFrame'>\n",
      "RangeIndex: 778 entries, 0 to 777\n",
      "Data columns (total 10 columns):\n",
      " #   Column         Non-Null Count  Dtype         \n",
      "---  ------         --------------  -----         \n",
      " 0   Date           778 non-null    datetime64[ns]\n",
      " 1   Active time    778 non-null    int64         \n",
      " 2   Distance       778 non-null    int64         \n",
      " 3   Keystrokes     778 non-null    int64         \n",
      " 4   Left clicks    778 non-null    int64         \n",
      " 5   Right clicks   778 non-null    int64         \n",
      " 6   Middle clicks  778 non-null    int64         \n",
      " 7   Double clicks  778 non-null    int64         \n",
      " 8   Wheel turn     778 non-null    int64         \n",
      " 9   Idle time      778 non-null    int64         \n",
      "dtypes: datetime64[ns](1), int64(9)\n",
      "memory usage: 60.9 KB\n"
     ]
    }
   ],
   "source": [
    "df.info()"
   ]
  }
 ],
 "metadata": {
  "kernelspec": {
   "display_name": "Python 3.9.13 ('neoland')",
   "language": "python",
   "name": "python3"
  },
  "language_info": {
   "codemirror_mode": {
    "name": "ipython",
    "version": 3
   },
   "file_extension": ".py",
   "mimetype": "text/x-python",
   "name": "python",
   "nbconvert_exporter": "python",
   "pygments_lexer": "ipython3",
   "version": "3.9.13"
  },
  "orig_nbformat": 4,
  "vscode": {
   "interpreter": {
    "hash": "13aa3a90a5e641235fea1601ecd5c89f84592ee55de82aab0f64a36e64690c8c"
   }
  }
 },
 "nbformat": 4,
 "nbformat_minor": 2
}
